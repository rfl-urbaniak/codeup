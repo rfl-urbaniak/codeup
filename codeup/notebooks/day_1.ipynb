{
 "cells": [
  {
   "cell_type": "code",
   "execution_count": 1,
   "metadata": {},
   "outputs": [],
   "source": [
    "import pandas as pd"
   ]
  },
  {
   "cell_type": "markdown",
   "metadata": {},
   "source": [
    "# Day 1 - Basic bricks of introductory learning\n"
   ]
  },
  {
   "cell_type": "markdown",
   "metadata": {},
   "source": [
    "While it is important to not just get bored doing one thing over and over, it is equally important to keep a relatively \n",
    "systematic group of activites and to intertwine them properly. Start with thinking about every day's work as being built\n",
    "from the following types of activities. By the way, here's a first simple example of Python code."
   ]
  },
  {
   "cell_type": "code",
   "execution_count": 2,
   "metadata": {},
   "outputs": [
    {
     "data": {
      "text/html": [
       "<div>\n",
       "<style scoped>\n",
       "    .dataframe tbody tr th:only-of-type {\n",
       "        vertical-align: middle;\n",
       "    }\n",
       "\n",
       "    .dataframe tbody tr th {\n",
       "        vertical-align: top;\n",
       "    }\n",
       "\n",
       "    .dataframe thead th {\n",
       "        text-align: right;\n",
       "    }\n",
       "</style>\n",
       "<table border=\"1\" class=\"dataframe\">\n",
       "  <thead>\n",
       "    <tr style=\"text-align: right;\">\n",
       "      <th></th>\n",
       "      <th>activity</th>\n",
       "      <th>min_duration</th>\n",
       "      <th>max_duration</th>\n",
       "      <th>energy</th>\n",
       "    </tr>\n",
       "  </thead>\n",
       "  <tbody>\n",
       "    <tr>\n",
       "      <th>0</th>\n",
       "      <td>new_material</td>\n",
       "      <td>45</td>\n",
       "      <td>90</td>\n",
       "      <td>high</td>\n",
       "    </tr>\n",
       "    <tr>\n",
       "      <th>1</th>\n",
       "      <td>flashcards_prep</td>\n",
       "      <td>15</td>\n",
       "      <td>30</td>\n",
       "      <td>medium</td>\n",
       "    </tr>\n",
       "    <tr>\n",
       "      <th>2</th>\n",
       "      <td>flashcards_review</td>\n",
       "      <td>15</td>\n",
       "      <td>30</td>\n",
       "      <td>medium</td>\n",
       "    </tr>\n",
       "    <tr>\n",
       "      <th>3</th>\n",
       "      <td>fluff</td>\n",
       "      <td>30</td>\n",
       "      <td>60</td>\n",
       "      <td>low</td>\n",
       "    </tr>\n",
       "  </tbody>\n",
       "</table>\n",
       "</div>"
      ],
      "text/plain": [
       "            activity  min_duration  max_duration  energy\n",
       "0       new_material            45            90    high\n",
       "1    flashcards_prep            15            30  medium\n",
       "2  flashcards_review            15            30  medium\n",
       "3              fluff            30            60     low"
      ]
     },
     "metadata": {},
     "output_type": "display_data"
    }
   ],
   "source": [
    "rows_to_add = [\n",
    "    {\n",
    "        \"activity\": \"new_material\",\n",
    "        \"min_duration\": 45,\n",
    "        \"max_duration\": 90,\n",
    "        \"energy\": \"high\",\n",
    "    },\n",
    "    {\n",
    "        \"activity\": \"flashcards_prep\",\n",
    "        \"min_duration\": 15,\n",
    "        \"max_duration\": 30,\n",
    "        \"energy\": \"medium\",\n",
    "    },\n",
    "    {\n",
    "        \"activity\": \"flashcards_review\",\n",
    "        \"min_duration\": 15,\n",
    "        \"max_duration\": 30,\n",
    "        \"energy\": \"medium\",\n",
    "    },\n",
    "    {\"activity\": \"fluff\", \"min_duration\": 30, \"max_duration\": 60, \"energy\": \"low\"},\n",
    "]\n",
    "\n",
    "df = pd.DataFrame(rows_to_add)\n",
    "\n",
    "display(df)"
   ]
  },
  {
   "cell_type": "markdown",
   "metadata": {},
   "source": [
    "- `new_material` itself will involve a whole array of things: doing an online tutorial, watching a lecture, following a class and whatnot. It doesn't make much sense to make it less than 45 minutes, because preparing for a learning session and getting focused takes time so you shouldn't change focus that often. It doesn't make sense to make it longer, as after 90 minutes it's easy for the learning process to become inefficient.\n",
    "- `flashcards_prep` is an understanding-focused activity. When you learn new material you should also prepare your images to be used downstream in a flashcard. As you will use flashcards on your phone, the simplest way to go is to use screenshots if you're on your phone and brute-force phone-made photos of bits of computer screen otherwise (yes, the quality will suck a bit, and just taking a screenshots on a laptop is an option, but then you have to remember to export them to your phone to appropriate folders and the whole thing becomes annoying). So: **when you go through new material and see some bits where you think, yes, this seems like something general enough for me to remember, take a picture with your phone**. At the beginning of your `flashcards_prep` session, simply take a look at your last pictures, move them to topic-  or online-class focused folders and then use them to add a few flashcards to the corresponding subfolder in Anki, simply using the pics from your folder. An alternative, potentially, would be to use Anki on your laptop as well and then copy-paste code or whatnot, but this again becomes annoying very fast and then you have to synch with your phone, and this becomes too unwieldy to be worth the effort. **Crucially, every time you add an image to Anki, first take a careful look, make sure you can explain to yourself what you see on this image and carefully think about the question you want Anki to ask you when it asks you about that image.**\n",
    "- `flashcards_review` is basically what it says. Once you have a bunch of Anki cards, make sure you spend 15-20 minutes daily testing yourself. Anki will take care of frequency and choosing the cards to ask you. The key idea is you don't want to work on the same thing in a row, so if you do one folder today, do another tomorrow etc.\n",
    "- `fluff` is additional stuff, like, figuring out how to install and use Anki, reading a blog about learning or about programming, listening to a podcast about learning to code, setting up some online course for yourself etc."
   ]
  },
  {
   "cell_type": "markdown",
   "metadata": {},
   "source": [
    "Things to keep in mind when you schedule your learning time:\n",
    "\n",
    "- You should have a mix of activities that require different levels of energy. For example, you can’t do flashcards review for 3 hours straight.\n",
    "- These tasks don't have to happen in a row, they just have to happen.\n",
    "- What you do should be based on your energy level. If you’re feeling tired, don’t do high-energy activities."
   ]
  },
  {
   "cell_type": "markdown",
   "metadata": {},
   "source": [
    "## What to do next?\n",
    "\n",
    "@fluff\n",
    "- watch [this tutorial](https://www.youtube.com/watch?v=iuBU_OM9oAM) and install Anki. [*15min*] \n",
    "- make sure you have access to your DataCamp account [*5min*]\n",
    "\n",
    "@new_material\n",
    "- Start the [Python fundamentals](https://app.datacamp.com/learn/skill-tracks/python-fundamentals) skill track on Datacamp and spend up to an hour learning new stuff. Remember to take pictures of things you'll want to remember later on! [*60min*]\n",
    "\n",
    "@flashcards_prep\n",
    "- Try to get at least 5 flashcards into a `DataCampPythonFundamentals` folder you start in Anki. If you get more, great, but stop adding after at most 30 minutes. [*20min*]\n",
    "\n",
    "@fluff, getting some perspective. Read these posts (easy to do whenever on a phone):\n",
    "- [5 reasons you shouldn't learn to code](https://launchacademy.com/blog/5-reasons-you-shouldn-t-learn-to-code)  [*5min*]\n",
    "- [4 reasons why you should not learn to code](https://www.dataidea.org/blog/details/?slug=4-reasons-why-you-should-not-learn-to-code)  [*3min*]\n",
    "- [The one reason why people fail at learning to code](https://hackernoon.com/the-one-reason-why-people-fail-at-learning-to-code-and-how-to-avoid-it-e7a2f4d29dc0) [*7min*]\n",
    "- [Why do most people fail to learn programming](https://www.kdnuggets.com/2022/03/people-fail-learn-programming.html) [*5min*]\n",
    "\n",
    "\n",
    "TOTAL TIME: 120 $\\pm 15$ min"
   ]
  }
 ],
 "metadata": {
  "kernelspec": {
   "display_name": "Python 3",
   "language": "python",
   "name": "python3"
  },
  "language_info": {
   "codemirror_mode": {
    "name": "ipython",
    "version": 3
   },
   "file_extension": ".py",
   "mimetype": "text/x-python",
   "name": "python",
   "nbconvert_exporter": "python",
   "pygments_lexer": "ipython3",
   "version": "3.12.2"
  },
  "widgets": {
   "application/vnd.jupyter.widget-state+json": {
    "state": {},
    "version_major": 2,
    "version_minor": 0
   }
  }
 },
 "nbformat": 4,
 "nbformat_minor": 4
}

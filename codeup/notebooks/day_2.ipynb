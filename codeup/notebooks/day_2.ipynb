{
 "cells": [
  {
   "cell_type": "markdown",
   "metadata": {},
   "source": [
    "# Day 2 - Do not learn from one source. Do not learn from too many."
   ]
  },
  {
   "cell_type": "markdown",
   "metadata": {},
   "source": [
    "Datacamp is kind of nice as a first encounter, but it will only get you that far. In particular, it's easy to feel like it's simple\n",
    "when you solve simplified problems in simplified environments. While it's a useful learning experience, it should be balanced by other approaches. Here is another.\n",
    "\n",
    "It is [CS50 Introduction to programming with Python](https://cs50.harvard.edu/python/2022/). It's a course taught at Harvard. Try to work through it.\n",
    "\n",
    "For now, there will be only one additional major course-like material. The idea is to juggle three different approaches, which is, I think, the right amount. We'll see how you like them, but stay ready to give up on any of them and look for another approach if you find any of them annoying."
   ]
  },
  {
   "cell_type": "markdown",
   "metadata": {},
   "source": [
    "## What to do next?\n",
    "\n",
    "@new_material\n",
    "\n",
    "- For now, don't enroll using edX, just spend 60 minutes watching [week 0](https://cs50.harvard.edu/python/2022/weeks/0/), rewinding or googling stuff or simply writing down your questions if you feel confused. Don't forget to take pictures of stuff you think is general enough to be useful! By the end of the hour write down how much lecture time did you go through. This will help you plan future work. [*60min*]\n",
    "\n",
    "@flashcards_prep\n",
    "- Spend 20 minutes expanding your flashcards, adding a new Anki folder called CS50. [*20min*]\n",
    "\n",
    "@flashcards_review\n",
    "- spend 15 minutes reviewing your DataCamp flashcards. [*15*]\n",
    "\n",
    "@fluff  (phone)\n",
    "- find a way to systematicall track podcasts on your phone, using say *Pocket Casts*. Add the following podcasts to your list:\n",
    "1. base.cs (pink logo)\n",
    "2. ladybug podcast\n",
    "3. learn to code with me \n",
    "4. Matka polka programistka\n",
    "5. Freecodecamp podcast\n",
    "\n",
    "Then take a look at some of the episode lists, add a few that interest you to your queue, and listen to one of them.\n",
    "\n",
    "TOTAL TIME: 115 minutes + some podcast listening"
   ]
  }
 ],
 "metadata": {
  "language_info": {
   "name": "python"
  }
 },
 "nbformat": 4,
 "nbformat_minor": 2
}

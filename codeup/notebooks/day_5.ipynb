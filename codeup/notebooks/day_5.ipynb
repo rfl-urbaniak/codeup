{
 "cells": [
  {
   "cell_type": "markdown",
   "metadata": {},
   "source": [
    "# Day 5 - set up your IDE"
   ]
  },
  {
   "cell_type": "code",
   "execution_count": null,
   "metadata": {
    "vscode": {
     "languageId": "plaintext"
    }
   },
   "outputs": [],
   "source": [
    "I know, DataCamp works in a browser, and Udemy recommends pycharm as an IDE. But what you need is VScode. Setting it up and getting used to it \n",
    "will take some time. But it will be worth it.\n",
    "\n",
    "\n",
    "@fluff [*30-50min*]\n",
    "- Use yt tutorials and online documentation to install VScode and Python on your laptop.\n",
    "- Once successful, install the Python VSCode extension and go through [this](https://www.youtube.com/watch?v=6i3e-j3wSf0))\n",
    "\n",
    "@new_material \n",
    "\n",
    "Continue with your rotation of learning sessions. Since you spent quite some time on the setup, feel free to skip the use of Anki today.\n",
    "\n",
    "#fluff\n",
    "\n",
    "Still, continue with *The One Thing* (unless you're done by now, then let me know)"
   ]
  }
 ],
 "metadata": {
  "language_info": {
   "name": "python"
  }
 },
 "nbformat": 4,
 "nbformat_minor": 2
}

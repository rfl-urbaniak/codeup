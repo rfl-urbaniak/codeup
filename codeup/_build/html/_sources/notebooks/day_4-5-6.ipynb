{
 "cells": [
  {
   "cell_type": "code",
   "execution_count": 1,
   "metadata": {},
   "outputs": [],
   "source": [
    "import pandas as pd"
   ]
  },
  {
   "cell_type": "markdown",
   "metadata": {},
   "source": [
    "# Day 4 - Focus and prioritize\n",
    "\n",
    "So this is it, when it comes to the general recipe! For now:\n",
    "\n",
    "1. Pick three styles of learning new material and systematically circle between them. If you have the impression that\n",
    "   one of them becomes useless or has bits that perhaps are worth skipping, talk to me. \n",
    "2. Make sure you don't neglect understanding and memorization, so do your flashcard prep and review. Important:\n",
    "   \n",
    "   - avoid prepping flashcards from today's material, and avoid rehearsing flashcards that you added just yesterday. \n",
    "    Learning works best if it's put in a somewhat hard situations, when you have to recall and explain at the time you \n",
    "    remember worse but didn't completely forget. So the rotations should look more or less like this:\n"
   ]
  },
  {
   "cell_type": "code",
   "execution_count": 2,
   "metadata": {},
   "outputs": [
    {
     "data": {
      "text/html": [
       "<div>\n",
       "<style scoped>\n",
       "    .dataframe tbody tr th:only-of-type {\n",
       "        vertical-align: middle;\n",
       "    }\n",
       "\n",
       "    .dataframe tbody tr th {\n",
       "        vertical-align: top;\n",
       "    }\n",
       "\n",
       "    .dataframe thead th {\n",
       "        text-align: right;\n",
       "    }\n",
       "</style>\n",
       "<table border=\"1\" class=\"dataframe\">\n",
       "  <thead>\n",
       "    <tr style=\"text-align: right;\">\n",
       "      <th></th>\n",
       "      <th>new_material</th>\n",
       "      <th>flashcards_prep</th>\n",
       "      <th>flashards_review</th>\n",
       "    </tr>\n",
       "  </thead>\n",
       "  <tbody>\n",
       "    <tr>\n",
       "      <th>0</th>\n",
       "      <td>A</td>\n",
       "      <td>-</td>\n",
       "      <td>-</td>\n",
       "    </tr>\n",
       "    <tr>\n",
       "      <th>1</th>\n",
       "      <td>B</td>\n",
       "      <td>A</td>\n",
       "      <td>-</td>\n",
       "    </tr>\n",
       "    <tr>\n",
       "      <th>2</th>\n",
       "      <td>C</td>\n",
       "      <td>B</td>\n",
       "      <td>A</td>\n",
       "    </tr>\n",
       "    <tr>\n",
       "      <th>3</th>\n",
       "      <td>A</td>\n",
       "      <td>C</td>\n",
       "      <td>B</td>\n",
       "    </tr>\n",
       "    <tr>\n",
       "      <th>4</th>\n",
       "      <td>B</td>\n",
       "      <td>A</td>\n",
       "      <td>C</td>\n",
       "    </tr>\n",
       "    <tr>\n",
       "      <th>5</th>\n",
       "      <td>C</td>\n",
       "      <td>B</td>\n",
       "      <td>A</td>\n",
       "    </tr>\n",
       "  </tbody>\n",
       "</table>\n",
       "</div>"
      ],
      "text/plain": [
       "  new_material flashcards_prep flashards_review\n",
       "0            A               -                -\n",
       "1            B               A                -\n",
       "2            C               B                A\n",
       "3            A               C                B\n",
       "4            B               A                C\n",
       "5            C               B                A"
      ]
     },
     "metadata": {},
     "output_type": "display_data"
    }
   ],
   "source": [
    "data = {\n",
    "    \"new_material\": [\"A\", \"B\", \"C\", \"A\", \"B\", \"C\"],\n",
    "    \"flashcards_prep\": [\"-\", \"A\", \"B\", \"C\", \"A\", \"B\"],\n",
    "    \"flashards_review\": [\"-\", \"-\", \"A\", \"B\", \"C\", \"A\"],\n",
    "}\n",
    "\n",
    "df = pd.DataFrame(data)\n",
    "display(df)"
   ]
  },
  {
   "cell_type": "markdown",
   "metadata": {},
   "source": [
    "3. Spend some extra time on looking, reading or listening around. This might be related to carreer paths/opportunities, to \n",
    "    learning methods, the experiences of other people going through similar experience,  or what have you. I'll keep tossing some examples \n",
    "    at you every now and then.\n",
    "\n",
    "@new_material\n",
    "\n",
    "For a few days, stick to one new material learning session per day, wrapped in a flashcards experience, making sure you rotate between\n",
    "the information sources (DataCamp/CS50/Udemy). The whole combo should take around 80-90 minutes. Obviously you don't have to do the three things in a row.\n",
    "\n",
    "@fluff\n",
    "\n",
    "For a few days, every day spend half an hour reading *The one thing*. While a self-help book, it still has some interesting insights and advice. Ask me where the book is."
   ]
  }
 ],
 "metadata": {
  "kernelspec": {
   "display_name": "codeup",
   "language": "python",
   "name": "python3"
  },
  "language_info": {
   "codemirror_mode": {
    "name": "ipython",
    "version": 3
   },
   "file_extension": ".py",
   "mimetype": "text/x-python",
   "name": "python",
   "nbconvert_exporter": "python",
   "pygments_lexer": "ipython3",
   "version": "3.12.2"
  }
 },
 "nbformat": 4,
 "nbformat_minor": 2
}

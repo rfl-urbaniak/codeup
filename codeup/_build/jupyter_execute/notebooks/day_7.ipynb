{
 "cells": [
  {
   "cell_type": "markdown",
   "metadata": {},
   "source": [
    "# Day 7 - watch where you're going"
   ]
  },
  {
   "cell_type": "markdown",
   "metadata": {},
   "source": [
    "From now on for the time being assume that every day when you learn contains 60-80 minutes learning session, 15-20 minutes Anki flashcard creation and around 20 minutes Anki recall sessions. Remeber to time the sessions and to rotate the learning materials! I'm no longer going to mention this.\n",
    "\n",
    "At this point, however, it'd be nice and useful to have a less dynamic picture of situation, a list of tasks akead of you, which will\n",
    "help you to make sure the overall direction makes sense and to evaluate whether you're neglecting anything (if yes, maybe deservedly, who knows; either way, it'd be good to know).\n",
    "\n",
    "@fluff  [*25min*]\n",
    "\n",
    "Set yourself a free account with [Linear](https://linear.app/). Think of adding projects and  tasks/goals you'd like to accomplish; make sure each task is precise enough and doesn't take more than 1-2 weeks. So, for instance, you could set up four projects:\n",
    "\n",
    "- Udemy\n",
    "- DataCamp\n",
    "- CS50\n",
    "- books\n",
    "\n",
    "and within each add at least 4 upcoming tasks. For instance, for DataCamp, these could be:\n",
    "- complete *Introduction to Python*\n",
    "- complete *Intermediate Python*\n",
    "- complete *Data Science Toolbox Part I*\n",
    "- complete *Data Science Toolbox Part II*\n",
    "\n",
    "For others those could be going through a certain lecture number, or reaching a certain day in the Udemy course. (By the way, it's unlikely you'd really want or need to go beyond day 50, the further you go the more selective you should become about what's interesting and what you'd rather skip, we can talk about this).\n",
    "\n",
    "Those on which you currently work should have status in progress, the rest is either backlog or completed, depending on where you are.\n",
    "\n",
    "\n",
    "TOTAL TIME: 150 $\\pm$ 15 min.\n",
    "\n",
    "\n",
    "\n",
    "\n"
   ]
  }
 ],
 "metadata": {
  "language_info": {
   "name": "python"
  }
 },
 "nbformat": 4,
 "nbformat_minor": 2
}
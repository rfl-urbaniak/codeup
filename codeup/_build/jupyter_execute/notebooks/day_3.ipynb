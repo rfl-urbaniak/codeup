{
 "cells": [
  {
   "cell_type": "markdown",
   "metadata": {},
   "source": [
    "# Day 3 - Track your bricks"
   ]
  },
  {
   "cell_type": "markdown",
   "metadata": {},
   "source": [
    "\n",
    "It is easy to neglect one of the bricks in favor of the easier or slightly more pleasant one. It is easy to neglect working systematically.  To avoid imbalance, and to make sure you do spend enough time studying on a daily basis, and to motivate yourself by seeing how your work investment grows, track your time. The easiest way is to do this is to install a simple free time tracker and add projects to the tracking. The data will also allow you to build cool plots later on. :)\n",
    "\n",
    "@fluff\n",
    "- watch [this tutorial on toggl track](https://www.youtube.com/watch?v=LKkHj4r94gQ) and install toggl track on your phone. Add the following projects:\n",
    "  - #DataCamp\n",
    "  - #CS50\n",
    "  - #100days\n",
    "  - #fluff\n",
    "\n",
    "from now on, when you start an activity, start the timer with an appropriate tag, and stop when you're done. \n",
    "\n",
    "[*15min*]\n",
    "\n",
    "@fluff\n",
    "Sign up for the third element of the learning path, [100 days of code](https://www.udemy.com/course/100-days-of-code/). [*10min*]\n",
    "\n",
    "@new_material\n",
    "Spend 60 minutes starting to learn from 100 days of code. Record how far you got. Don't forget to take pics from your mental adventure! [*60min*]\n",
    "\n",
    "@flashcards_prep\n",
    "- Spend 20 minutes expanding your flashcards. [*20min*]\n",
    "\n",
    "@flashcards_review\n",
    "- spend 15 minutes reviewing your CS50 flashcards. [*15*]\n",
    "\n",
    "@fluff\n",
    "- read these posts:\n",
    "  - [tips to learn coding faster](https://bootcamp.berkeley.edu/blog/use-these-7-tips-to-help-you-learn-computer-programming-faster/)\n",
    "  - [advice for beginners](https://www.codementor.io/learn-programming/steve-klabniks-9-words-advice-programming-beginners)\n",
    "  - pretty much any post you want at [programuj dziewczyno](https://www.wakeupandcode.pl/category/programujdziewczyno/), or a few of them (consider coming back if you find it interesting)\n",
    "  \n",
    "[*20min*]\n",
    "\n",
    "TOTAL TIME: 140 $\\pm 10$ minutes"
   ]
  }
 ],
 "metadata": {
  "language_info": {
   "name": "python"
  }
 },
 "nbformat": 4,
 "nbformat_minor": 2
}
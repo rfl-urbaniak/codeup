{
 "cells": [
  {
   "cell_type": "markdown",
   "metadata": {},
   "source": [
    "# April 2024\n",
    "\n"
   ]
  },
  {
   "cell_type": "markdown",
   "metadata": {},
   "source": [
    "\n",
    "## April 3, 2024 - Basic bricks of introductory learning\n"
   ]
  },
  {
   "cell_type": "markdown",
   "metadata": {},
   "source": [
    "While it is important to not just get bored doing one thing over and over, it is equally important to keep a relatively \n",
    "systematic group of activites and to intertwine them properly. Start with thinking about every day's work as being built\n",
    "from the following types of activities."
   ]
  },
  {
   "cell_type": "code",
   "execution_count": 6,
   "metadata": {},
   "outputs": [
    {
     "name": "stdout",
     "output_type": "stream",
     "text": [
      "Requirement already satisfied: pandas in /home/rafal/miniconda3/envs/codeup/lib/python3.12/site-packages (2.2.1)\n",
      "Requirement already satisfied: numpy<2,>=1.26.0 in /home/rafal/miniconda3/envs/codeup/lib/python3.12/site-packages (from pandas) (1.26.4)\n",
      "Requirement already satisfied: python-dateutil>=2.8.2 in /home/rafal/miniconda3/envs/codeup/lib/python3.12/site-packages (from pandas) (2.9.0)\n",
      "Requirement already satisfied: pytz>=2020.1 in /home/rafal/miniconda3/envs/codeup/lib/python3.12/site-packages (from pandas) (2024.1)\n",
      "Requirement already satisfied: tzdata>=2022.7 in /home/rafal/miniconda3/envs/codeup/lib/python3.12/site-packages (from pandas) (2024.1)\n",
      "Requirement already satisfied: six>=1.5 in /home/rafal/miniconda3/envs/codeup/lib/python3.12/site-packages (from python-dateutil>=2.8.2->pandas) (1.16.0)\n"
     ]
    }
   ],
   "source": [
    "!pip install pandas"
   ]
  },
  {
   "cell_type": "code",
   "execution_count": 7,
   "metadata": {},
   "outputs": [
    {
     "data": {
      "text/html": [
       "<div>\n",
       "<style scoped>\n",
       "    .dataframe tbody tr th:only-of-type {\n",
       "        vertical-align: middle;\n",
       "    }\n",
       "\n",
       "    .dataframe tbody tr th {\n",
       "        vertical-align: top;\n",
       "    }\n",
       "\n",
       "    .dataframe thead th {\n",
       "        text-align: right;\n",
       "    }\n",
       "</style>\n",
       "<table border=\"1\" class=\"dataframe\">\n",
       "  <thead>\n",
       "    <tr style=\"text-align: right;\">\n",
       "      <th></th>\n",
       "      <th>activity</th>\n",
       "      <th>min_duration</th>\n",
       "      <th>max_duration</th>\n",
       "      <th>energy</th>\n",
       "    </tr>\n",
       "  </thead>\n",
       "  <tbody>\n",
       "    <tr>\n",
       "      <th>0</th>\n",
       "      <td>new_material</td>\n",
       "      <td>45</td>\n",
       "      <td>90</td>\n",
       "      <td>high</td>\n",
       "    </tr>\n",
       "    <tr>\n",
       "      <th>1</th>\n",
       "      <td>flashcards_prep</td>\n",
       "      <td>20</td>\n",
       "      <td>30</td>\n",
       "      <td>medium</td>\n",
       "    </tr>\n",
       "    <tr>\n",
       "      <th>2</th>\n",
       "      <td>flashcards_review</td>\n",
       "      <td>15</td>\n",
       "      <td>30</td>\n",
       "      <td>medium</td>\n",
       "    </tr>\n",
       "    <tr>\n",
       "      <th>3</th>\n",
       "      <td>fluff</td>\n",
       "      <td>30</td>\n",
       "      <td>60</td>\n",
       "      <td>low</td>\n",
       "    </tr>\n",
       "  </tbody>\n",
       "</table>\n",
       "</div>"
      ],
      "text/plain": [
       "            activity  min_duration  max_duration  energy\n",
       "0       new_material            45            90    high\n",
       "1    flashcards_prep            20            30  medium\n",
       "2  flashcards_review            15            30  medium\n",
       "3              fluff            30            60     low"
      ]
     },
     "metadata": {},
     "output_type": "display_data"
    }
   ],
   "source": [
    "import pandas as pd\n",
    "\n",
    "rows_to_add = [\n",
    "    {\n",
    "        \"activity\": \"new_material\",\n",
    "        \"min_duration\": 45,\n",
    "        \"max_duration\": 90,\n",
    "        \"energy\": \"high\",\n",
    "    },\n",
    "    {\n",
    "        \"activity\": \"flashcards_prep\",\n",
    "        \"min_duration\": 20,\n",
    "        \"max_duration\": 30,\n",
    "        \"energy\": \"medium\",\n",
    "    },\n",
    "    {\n",
    "        \"activity\": \"flashcards_review\",\n",
    "        \"min_duration\": 15,\n",
    "        \"max_duration\": 30,\n",
    "        \"energy\": \"medium\",\n",
    "    },\n",
    "    {\"activity\": \"fluff\", \"min_duration\": 30, \"max_duration\": 60, \"energy\": \"low\"},\n",
    "]\n",
    "\n",
    "df = pd.DataFrame(rows_to_add)\n",
    "\n",
    "display(df)"
   ]
  }
 ],
 "metadata": {
  "kernelspec": {
   "display_name": "Python 3",
   "language": "python",
   "name": "python3"
  },
  "language_info": {
   "codemirror_mode": {
    "name": "ipython",
    "version": 3
   },
   "file_extension": ".py",
   "mimetype": "text/x-python",
   "name": "python",
   "nbconvert_exporter": "python",
   "pygments_lexer": "ipython3",
   "version": "3.12.2"
  },
  "widgets": {
   "application/vnd.jupyter.widget-state+json": {
    "state": {},
    "version_major": 2,
    "version_minor": 0
   }
  }
 },
 "nbformat": 4,
 "nbformat_minor": 4
}